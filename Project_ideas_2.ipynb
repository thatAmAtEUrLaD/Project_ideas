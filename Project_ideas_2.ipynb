{
  "nbformat": 4,
  "nbformat_minor": 0,
  "metadata": {
    "colab": {
      "name": "Project ideas #2.ipynb",
      "provenance": [],
      "authorship_tag": "ABX9TyNPekRsMUlVqhjPj42bMi88",
      "include_colab_link": true
    },
    "kernelspec": {
      "name": "python3",
      "display_name": "Python 3"
    },
    "language_info": {
      "name": "python"
    }
  },
  "cells": [
    {
      "cell_type": "markdown",
      "metadata": {
        "id": "view-in-github",
        "colab_type": "text"
      },
      "source": [
        "<a href=\"https://colab.research.google.com/github/thatAmAtEUrLaD/Project_ideas/blob/main/Project_ideas_2.ipynb\" target=\"_parent\"><img src=\"https://colab.research.google.com/assets/colab-badge.svg\" alt=\"Open In Colab\"/></a>"
      ]
    },
    {
      "cell_type": "markdown",
      "source": [
        "**OTP Generation**"
      ],
      "metadata": {
        "id": "me2ZLwUBGi2L"
      }
    },
    {
      "cell_type": "code",
      "execution_count": null,
      "metadata": {
        "id": "a2davGxbGbN2"
      },
      "outputs": [],
      "source": [
        "# 'n' here is the number of characters in the OTP\n",
        "# 6 character OTP\n",
        "from random import choice\n",
        "import string\n",
        "OTP=\"\"\n",
        "n=6\n",
        "chr=string.ascii_letters\n",
        "for i in range(n):\n",
        "  OTP=OTP + choice(chr)\n",
        "\n",
        "print(\"OTP : \"+OTP)\n",
        "st=input(\"Enter your OTP : \")\n",
        "if st!=OTP:\n",
        "  print(\"Wrong OTP, Access Denied!!!\")\n",
        "else:\n",
        "  print(\"Access Granted!!!\")"
      ]
    }
  ]
}